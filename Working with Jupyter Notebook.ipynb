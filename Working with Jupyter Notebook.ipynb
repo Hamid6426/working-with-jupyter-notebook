{
 "cells": [
  {
   "cell_type": "markdown",
   "id": "ea503d82-3bd8-40b0-bc02-3f7bf613b734",
   "metadata": {},
   "source": [
    "# DATA SCIENCE WITH JUPYTER NOTEBOOK"
   ]
  },
  {
   "cell_type": "markdown",
   "id": "72fc3019-1f62-4393-a5c1-202960432e08",
   "metadata": {},
   "source": [
    "## Introduction\n",
    "In this assignment I will be working on the following tasks\n",
    "\n",
    "1. Create a list of Data Science Languages \n",
    "2. Create a list of Data Science Libraries \n",
    "3. Create a list of Data Science Tools\n",
    "4. Create a markdown cell introducing arithmetic expression examples.\n",
    "5. Create a code cell to multiply and add numbers. \n",
    "6. Create a code cell to convert minutes to hours.\n",
    "7. Insert a markdown cell to list Objectives.\n",
    "8. Create a markdown cell to indicate the Author’s name."
   ]
  },
  {
   "cell_type": "markdown",
   "id": "314543a4-d858-44c2-8495-db6ce3395ad3",
   "metadata": {},
   "source": [
    "### Data Science Languages\n",
    "\n",
    "Below is a list of data science languages, along with their perceived difficulty to learn/use.\n",
    "| No. | LANGUAGES      | DIFFICULTY   | WANT TO LEARN|\n",
    "| --- | -------------- | ------------ |--------------|\n",
    "| 1   | Python         | Easy         |YES           |\n",
    "| 2   | R              | Easy         |YES           |\n",
    "| 3   | SQL            | Easy         |YES           |\n",
    "| 4   | JavaScript     | Moderate     |DON'T KNOW    |\n",
    "| 5   | Scala          | Moderate     |DON'T KNOW    |\n",
    "| 6   | Java           | Moderate     |DON'T KNOW    |\n",
    "| 7   | C++            | Hard         |DON'T KNOW    |\n",
    "| 8   | Julia          | Moderate     |DON'T KNOW    |\n",
    "| 9   | Visual Basic   | Hard         |DON'T KNOW    |\n",
    "| 10  | Ruby           | Moderate     |DON'T KNOW    |\n",
    "| 11  | Go             | Moderate     |DON'T KNOW    |\n",
    "| 12  | PHP            | Moderate     |YES           |\n",
    "\n",
    "P.S The Difficulty ratings are general estimates and may not apply to everyone.\n"
   ]
  },
  {
   "cell_type": "markdown",
   "id": "0367d7ff-3d72-4934-86f7-eebef8ef0238",
   "metadata": {},
   "source": [
    "### Data Science Libraries\n",
    "\n",
    "Here's a table with some commonly used libraries in data science, along with a general indication of their popularity and usefulness.\n",
    "\n",
    "| No. | Library          | Popularity | Usefulness   |\n",
    "| --- | ---------------- | ---------- | ------------ |\n",
    "| 1   | NumPy            | Very Popular | Highly Useful |\n",
    "| 2   | Pandas           | Very Popular | Highly Useful |\n",
    "| 3   | Matplotlib       | Popular    | Highly Useful |\n",
    "| 4   | Seaborn          | Popular    | Highly Useful |\n",
    "| 5   | SciPy            | Popular    | Highly Useful |\n",
    "| 6   | Scikit-Learn     | Very Popular | Highly Useful |\n",
    "| 7   | TensorFlow       | Popular    | Highly Useful |\n",
    "| 8   | Keras            | Popular    | Highly Useful |\n",
    "| 9   | PyTorch          | Popular    | Highly Useful |\n",
    "| 10  | Statsmodels      | Popular    | Useful      |\n",
    "| 11  | NLTK             | Popular    | Useful      |\n",
    "| 12  | spaCy            | Popular    | Useful      |\n",
    "| 13  | Gensim           | Popular    | Useful      |\n",
    "| 14  | OpenCV           | Popular    | Useful      |\n",
    "| 15  | XGBoost          | Popular    | Highly Useful |\n",
    "\n"
   ]
  },
  {
   "cell_type": "markdown",
   "id": "97caf76b-236e-405a-a1a3-b04054211e2a",
   "metadata": {
    "tags": []
   },
   "source": [
    "### Data Science Tools\n",
    "\n",
    "Here's a table with some commonly used data science tools, along with a general indication of their popularity and usefulness.\n",
    "\n",
    "| No. | Tool             | Popularity | Usefulness   |\n",
    "| --- | ---------------- | ---------- | ------------ |\n",
    "| 1   | Jupyter Notebook | Very Popular | Highly Useful |\n",
    "| 2   | RStudio          | Popular    | Highly Useful |\n",
    "| 3   | Anaconda         | Popular    | Highly Useful |\n",
    "| 4   | Tableau          | Popular    | Highly Useful |\n",
    "| 5   | Power BI         | Popular    | Highly Useful |\n",
    "| 6   | RapidMiner       | Popular    | Useful      |\n",
    "| 7   | KNIME            | Popular    | Useful      |\n",
    "| 8   | Apache Spark     | Popular    | Highly Useful |\n",
    "| 9   | Hadoop           | Popular    | Highly Useful |\n",
    "| 10  | SAS              | Popular    | Highly Useful |\n",
    "| 11  | Excel            | Very Popular | Highly Useful |\n",
    "| 12  | Weka             | Popular    | Useful      |\n",
    "| 13  | Orange           | Popular    | Useful      |\n",
    "| 14  | IBM Watson       | Popular    | Highly Useful |\n",
    "| 15  | Alteryx          | Popular    | Highly Useful |\n"
   ]
  },
  {
   "cell_type": "markdown",
   "id": "6241e23c-d60d-46d3-8bd4-1c7c9ebbe0ff",
   "metadata": {},
   "source": [
    " ## Arithmetic Expressions\n",
    "\n",
    "In this section, we will explore various arithmetic expressions and calculations using Python. We'll cover addition and multiplication."
   ]
  },
  {
   "cell_type": "markdown",
   "id": "bd8e6902-09e0-4938-b917-bd0406aa7bff",
   "metadata": {
    "tags": []
   },
   "source": [
    "#### Addition & Multiplication"
   ]
  },
  {
   "cell_type": "code",
   "execution_count": 11,
   "id": "e6dae162-8af1-477b-99e0-fb0c20ec2c38",
   "metadata": {
    "tags": []
   },
   "outputs": [
    {
     "name": "stdin",
     "output_type": "stream",
     "text": [
      "Enter the first number:  1\n",
      "Enter the second number:  2\n"
     ]
    },
    {
     "name": "stdout",
     "output_type": "stream",
     "text": [
      "Sum: 1.0 + 2.0 = 3.0\n",
      "Product: 1.0 * 2.0 = 2.0\n"
     ]
    }
   ],
   "source": [
    "# Input two numbers from the user\n",
    "num1 = float(input(\"Enter the first number: \"))\n",
    "num2 = float(input(\"Enter the second number: \"))\n",
    "\n",
    "# Perform operations\n",
    "sum_result = num1 + num2\n",
    "product_result = num1 * num2\n",
    "\n",
    "# Display the results\n",
    "print(f\"Sum: {num1} + {num2} = {sum_result}\")\n",
    "print(f\"Product: {num1} * {num2} = {product_result}\")\n"
   ]
  },
  {
   "cell_type": "markdown",
   "id": "26c56abe-8de1-4a52-ae5a-3ba48487b5fb",
   "metadata": {},
   "source": [
    "#### Minutes to Hour Method 1"
   ]
  },
  {
   "cell_type": "code",
   "execution_count": 28,
   "id": "68058f45-870f-4791-b8f0-1363877c759a",
   "metadata": {
    "tags": []
   },
   "outputs": [
    {
     "name": "stdin",
     "output_type": "stream",
     "text": [
      "Enter minutes: 40\n"
     ]
    },
    {
     "name": "stdout",
     "output_type": "stream",
     "text": [
      "minute to hour conversion:0.6666666666666666\n"
     ]
    }
   ],
   "source": [
    "minutes = int(input(\"Enter minutes:\")) \n",
    "\n",
    "hours = minutes / 60\n",
    "\n",
    "print(f\"{minute} to hour conversion:{hour}\")"
   ]
  },
  {
   "cell_type": "markdown",
   "id": "ccbc1c6e-0a06-4ff9-adb6-f6f82c7d3563",
   "metadata": {
    "tags": []
   },
   "source": [
    "#### Minutes to Hour Method 2"
   ]
  },
  {
   "cell_type": "code",
   "execution_count": 29,
   "id": "aef72d64-07a4-4729-9573-f3b3dba6cea3",
   "metadata": {
    "tags": []
   },
   "outputs": [
    {
     "name": "stdin",
     "output_type": "stream",
     "text": [
      "Enter minutes: 40\n"
     ]
    },
    {
     "name": "stdout",
     "output_type": "stream",
     "text": [
      "40 minute to hour conversion: 0.6666666666666666 hours\n"
     ]
    }
   ],
   "source": [
    "minutes = int(input(\"Enter minutes:\")) \n",
    "\n",
    "hours = minutes / 60\n",
    "\n",
    "output = str(minutes) + \" minute to hour conversion: \" + str(hours) + \" hours\"\n",
    "print(output)"
   ]
  },
  {
   "cell_type": "markdown",
   "id": "238c613d-9f96-4c14-b72b-92bb6c11273d",
   "metadata": {},
   "source": [
    "## Objectives\n",
    "\n",
    "In this notebook, we aim to achieve the following objectives:\n",
    "\n",
    "1. Learn how to create and format markdown cells in Jupyter Notebook.\n",
    "2. Explore and practice arithmetic expressions in Python.\n",
    "3. Perform basic mathematical operations like addition and multiplication.\n",
    "4. Convert units, specifically converting minutes to hours.\n",
    " \n"
   ]
  },
  {
   "cell_type": "markdown",
   "id": "30c3a936-3fb5-464b-856c-f4c35cf11296",
   "metadata": {
    "tags": []
   },
   "source": [
    "## Author\n",
    "### Name: MIAN HAMID UR REHMAN \n",
    "### Github: Hamid6426"
   ]
  }
 ],
 "metadata": {
  "kernelspec": {
   "display_name": "Python",
   "language": "python",
   "name": "conda-env-python-py"
  },
  "language_info": {
   "codemirror_mode": {
    "name": "ipython",
    "version": 3
   },
   "file_extension": ".py",
   "mimetype": "text/x-python",
   "name": "python",
   "nbconvert_exporter": "python",
   "pygments_lexer": "ipython3",
   "version": "3.7.12"
  }
 },
 "nbformat": 4,
 "nbformat_minor": 5
}
